{
 "cells": [
  {
   "cell_type": "markdown",
   "source": [
    "Resilient Distributed Dataset (RDD) es la principal abstracción de Spark.\n",
    "Son una colección de elementos particionados a través de los nodos del cluster que pueden operar en paralelo.\n",
    "Hay tres características principales de los RDDs:\n",
    "* **Dependencia**: RDDs mantienen un registro de cómo se crean a partir de otros datasets. Por ejemplo, un RDD puede ser creado a partir de otro RDD mediante un map, filter, etc. Esto permite a Spark reconstruir un RDD en caso de fallo de un nodo.\n",
    "*\n",
    "* **Particionado**: RDDs son particionados en múltiples particiones que pueden ser computadas en diferentes nodos del cluster.\n",
    "*\n",
    "* **Función de cálculo**: RDDs soportan dos tipos de operaciones: transformaciones y acciones. Las transformaciones crean un nuevo RDD a partir de uno existente, mientras que las acciones devuelven un valor al programa driver después de computar un dataset."
   ],
   "metadata": {
    "collapsed": false
   }
  },
  {
   "cell_type": "code",
   "execution_count": 0,
   "outputs": [],
   "source": [
    "import findspark\n",
    "\n",
    "findspark.init()\n",
    "\n",
    "from pyspark.sql import SparkSession\n",
    "from pyspark import SparkContext\n",
    "\n",
    "# Creación de sesión de Spark que a su vez crea el SparkContext\n",
    "\n",
    "spark = SparkSession.builder.master(\"local[*]\").getOrCreate()\n",
    "\n",
    "# Punto de entrada a Spark para trabajar con RDDs\n",
    "sc: SparkContext = spark.sparkContext\n"
   ],
   "metadata": {
    "collapsed": false
   }
  },
  {
   "cell_type": "code",
   "execution_count": 0,
   "outputs": [],
   "source": [
    "# Creación de RDD vacío\n",
    "rdd = sc.emptyRDD()"
   ],
   "metadata": {
    "collapsed": false
   }
  },
  {
   "cell_type": "code",
   "execution_count": 0,
   "outputs": [],
   "source": [
    "# Creación de RDD vacío con parallelize\n",
    "empty_parallelized_rdd = sc.parallelize([], numSlices=3)"
   ],
   "metadata": {
    "collapsed": false
   }
  },
  {
   "cell_type": "code",
   "execution_count": 0,
   "outputs": [],
   "source": [
    "# Obtener el número de particiones del RDD\n",
    "empty_parallelized_rdd.getNumPartitions()"
   ],
   "metadata": {
    "collapsed": false
   }
  },
  {
   "cell_type": "code",
   "execution_count": 0,
   "outputs": [],
   "source": [
    "# Creación de RDD con datos con parallelize\n",
    "parallelized_rdd = sc.parallelize([1, 2, 3, 4], numSlices=3)\n",
    "parallelized_rdd.collect()"
   ],
   "metadata": {
    "collapsed": false
   }
  },
  {
   "cell_type": "code",
   "execution_count": 0,
   "outputs": [],
   "source": [
    "# Creación de RDD desde un archivo de texto con textFile\n",
    "rdd_text = sc.textFile(name=r\"../../data/rdd_source.txt\")\n",
    "rdd_text.collect()"
   ],
   "metadata": {
    "collapsed": false
   }
  },
  {
   "cell_type": "code",
   "execution_count": null,
   "outputs": [],
   "source": [
    "# Creación de RDD desde un archivo de texto con wholeTextFiles\n",
    "rdd_whole_text = sc.wholeTextFiles(r\"../../data/rdd_source.txt\")\n",
    "rdd_whole_text.collect()"
   ],
   "metadata": {
    "collapsed": false
   }
  },
  {
   "cell_type": "code",
   "execution_count": 2,
   "outputs": [
    {
     "data": {
      "text/plain": "[2, 3, 4, 5]"
     },
     "execution_count": 2,
     "metadata": {},
     "output_type": "execute_result"
    }
   ],
   "source": [
    "# Creación de RDD a partir de otro RDD existente\n",
    "rdd_from_rdd = parallelized_rdd.map(lambda x: x + 1)\n",
    "rdd_from_rdd.collect()"
   ],
   "metadata": {
    "collapsed": false,
    "ExecuteTime": {
     "end_time": "2023-05-11T11:47:22.841595100Z",
     "start_time": "2023-05-11T11:47:20.388568Z"
    }
   }
  },
  {
   "cell_type": "code",
   "execution_count": 3,
   "outputs": [
    {
     "name": "stdout",
     "output_type": "stream",
     "text": [
      "+---+---+\n",
      "|  a|  b|\n",
      "+---+---+\n",
      "|  1|  2|\n",
      "|  3|  4|\n",
      "+---+---+\n",
      "\n"
     ]
    },
    {
     "data": {
      "text/plain": "[Row(a=1, b=2), Row(a=3, b=4)]"
     },
     "execution_count": 3,
     "metadata": {},
     "output_type": "execute_result"
    }
   ],
   "source": [
    "# Creación de RDD desde un DataFrame\n",
    "df = spark.createDataFrame(data=[(1, 2), (3, 4)], schema=[\"a\", \"b\"])\n",
    "df.show()\n",
    "\n",
    "rdd_from_df = df.rdd\n",
    "rdd_from_df.collect()"
   ],
   "metadata": {
    "collapsed": false,
    "ExecuteTime": {
     "end_time": "2023-05-11T11:49:56.047631200Z",
     "start_time": "2023-05-11T11:49:24.014904200Z"
    }
   }
  },
  {
   "cell_type": "code",
   "execution_count": null,
   "outputs": [],
   "source": [],
   "metadata": {
    "collapsed": false
   }
  }
 ],
 "metadata": {
  "kernelspec": {
   "display_name": "Python 3",
   "language": "python",
   "name": "python3"
  },
  "language_info": {
   "codemirror_mode": {
    "name": "ipython",
    "version": 2
   },
   "file_extension": ".py",
   "mimetype": "text/x-python",
   "name": "python",
   "nbconvert_exporter": "python",
   "pygments_lexer": "ipython2",
   "version": "2.7.6"
  }
 },
 "nbformat": 4,
 "nbformat_minor": 0
}
