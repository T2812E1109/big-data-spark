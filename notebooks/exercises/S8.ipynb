{
 "cells": [
  {
   "cell_type": "markdown",
   "source": [
    "1. Determine los tres países con mayor número de jugadores(jugadores nacidos en ese país). El resultado debe estar ordenado de forma descendente.\n",
    "\n",
    "2. Obtenga la lista de jugadores con tarjeta roja. La salida debe contener dos columnas, el nombre de pila del jugador y la cantidad de tarjetas rojas que tiene.\n",
    "\n",
    "3. ¿Cuántos juegos se jugaron en la Premier League? La salida debe contener dos columnas, el nombre de la liga y la cantidad de juegos que se jugaron en ella.\n",
    "\n",
    "4. Obtenga las tres ligas con mayor número de asistencia de público teniendo en cuenta todos los juegos que se jugaron en ellas. El resultado debe estar ordenado de forma descendente y tener dos columnas, el nombre de la liga y la asistencia total."
   ],
   "metadata": {
    "collapsed": false
   }
  },
  {
   "cell_type": "code",
   "execution_count": 1,
   "outputs": [],
   "source": [
    "import findspark\n",
    "\n",
    "findspark.init()\n",
    "\n",
    "from pyspark.sql import SparkSession\n",
    "from pyspark import SparkContext\n",
    "from pyspark.sql.functions import col, desc, sum, sum_distinct, min, max, avg, count, countDistinct, \\\n",
    "    approx_count_distinct, broadcast\n",
    "\n",
    "spark = SparkSession.builder.master(\"local[*]\").getOrCreate()\n",
    "\n",
    "sc: SparkContext = spark.sparkContext"
   ],
   "metadata": {
    "collapsed": false,
    "ExecuteTime": {
     "end_time": "2023-05-17T10:09:37.501218Z",
     "start_time": "2023-05-17T10:09:30.189458800Z"
    }
   }
  },
  {
   "cell_type": "code",
   "execution_count": 6,
   "outputs": [
    {
     "name": "stdout",
     "output_type": "stream",
     "text": [
      "root\n",
      " |-- player_id: integer (nullable = true)\n",
      " |-- game_id: integer (nullable = true)\n",
      " |-- appearance_id: string (nullable = true)\n",
      " |-- competition_id: string (nullable = true)\n",
      " |-- player_club_id: integer (nullable = true)\n",
      " |-- goals: integer (nullable = true)\n",
      " |-- assists: integer (nullable = true)\n",
      " |-- minutes_played: integer (nullable = true)\n",
      " |-- yellow_cards: integer (nullable = true)\n",
      " |-- red_cards: integer (nullable = true)\n",
      "\n",
      "+---------+-------+-------------+--------------+--------------+-----+-------+--------------+------------+---------+\n",
      "|player_id|game_id|appearance_id|competition_id|player_club_id|goals|assists|minutes_played|yellow_cards|red_cards|\n",
      "+---------+-------+-------------+--------------+--------------+-----+-------+--------------+------------+---------+\n",
      "|    52453|2483937|2483937_52453|           RU1|         28095|    0|      0|            90|           0|        0|\n",
      "|    67064|2479929|2479929_67064|           RU1|         28095|    0|      0|            90|           0|        0|\n",
      "|    67064|2483937|2483937_67064|           RU1|         28095|    0|      0|            90|           0|        0|\n",
      "|    67064|2484582|2484582_67064|           RU1|         28095|    0|      0|            55|           0|        0|\n",
      "|    67064|2485965|2485965_67064|           RU1|         28095|    0|      0|            90|           0|        0|\n",
      "+---------+-------+-------------+--------------+--------------+-----+-------+--------------+------------+---------+\n",
      "only showing top 5 rows\n",
      "\n"
     ]
    }
   ],
   "source": [
    "appearances = spark.read.csv(\n",
    "    r\"../../data/appearances.csv\",\n",
    "    header=True,\n",
    "    inferSchema=True,\n",
    ")\n",
    "appearances.printSchema()\n",
    "appearances.show(5)"
   ],
   "metadata": {
    "collapsed": false,
    "ExecuteTime": {
     "end_time": "2023-05-17T10:13:23.431987400Z",
     "start_time": "2023-05-17T10:13:22.505339700Z"
    }
   }
  },
  {
   "cell_type": "code",
   "execution_count": 7,
   "outputs": [
    {
     "name": "stdout",
     "output_type": "stream",
     "text": [
      "root\n",
      " |-- club_id: integer (nullable = true)\n",
      " |-- name: string (nullable = true)\n",
      " |-- pretty_name: string (nullable = true)\n",
      " |-- domestic_competition_id: string (nullable = true)\n",
      " |-- total_market_value: double (nullable = true)\n",
      " |-- squad_size: integer (nullable = true)\n",
      " |-- average_age: double (nullable = true)\n",
      " |-- foreigners_number: integer (nullable = true)\n",
      " |-- foreigners_percentage: double (nullable = true)\n",
      " |-- national_team_players: integer (nullable = true)\n",
      " |-- stadium_name: string (nullable = true)\n",
      " |-- stadium_seats: integer (nullable = true)\n",
      " |-- net_transfer_record: string (nullable = true)\n",
      " |-- coach_name: string (nullable = true)\n",
      " |-- url: string (nullable = true)\n",
      "\n",
      "+-------+-------------------+-------------------+-----------------------+------------------+----------+-----------+-----------------+---------------------+---------------------+--------------------+-------------+-------------------+----------------+--------------------+\n",
      "|club_id|               name|        pretty_name|domestic_competition_id|total_market_value|squad_size|average_age|foreigners_number|foreigners_percentage|national_team_players|        stadium_name|stadium_seats|net_transfer_record|      coach_name|                 url|\n",
      "+-------+-------------------+-------------------+-----------------------+------------------+----------+-----------+-----------------+---------------------+---------------------+--------------------+-------------+-------------------+----------------+--------------------+\n",
      "|   1429|          cesena-fc|          Cesena Fc|                    IT1|              5.09|        30|       24.0|                3|                 10.0|                    1|\"Orogel Stadium \"...|        23860|           +£180Th.|Pierpaolo Bisoli|https://www.trans...|\n",
      "|   5220|       gs-ergotelis|       Gs Ergotelis|                    GR1|              3.62|        30|       22.7|               11|                 36.7|                    1|    Pankritio Stadio|        25780|                +-0|   Juan Ferrando|https://www.trans...|\n",
      "|  20698|      balikesirspor|      Balikesirspor|                    TR1|              2.21|        33|       25.5|                9|                 27.3|                    1|   Balıkesir Atatürk|        15800|                +-0|  Ismail Ertekin|https://www.trans...|\n",
      "|   6894|kayseri-erciyesspor|Kayseri Erciyesspor|                    TR1|              null|         0|        0.0|                0|                 null|                    0|Kayseri Atatürk S...|         2000|                +-0|  Hikmet Karaman|https://www.trans...|\n",
      "|   5572|         niki-volou|         Niki Volou|                    GR1|              3.38|        26|       27.9|                6|                 23.1|                    1|Panthessaliko Stadio|        22700|                +-0|    Wiljan Vloet|https://www.trans...|\n",
      "+-------+-------------------+-------------------+-----------------------+------------------+----------+-----------+-----------------+---------------------+---------------------+--------------------+-------------+-------------------+----------------+--------------------+\n",
      "only showing top 5 rows\n",
      "\n"
     ]
    }
   ],
   "source": [
    "clubs = spark.read.csv(\n",
    "    r\"../../data/clubs.csv\",\n",
    "    header=True,\n",
    "    inferSchema=True,\n",
    ")\n",
    "clubs.printSchema()\n",
    "clubs.show(5)"
   ],
   "metadata": {
    "collapsed": false,
    "ExecuteTime": {
     "end_time": "2023-05-17T10:14:06.440971900Z",
     "start_time": "2023-05-17T10:14:05.821259100Z"
    }
   }
  },
  {
   "cell_type": "code",
   "execution_count": 8,
   "outputs": [
    {
     "name": "stdout",
     "output_type": "stream",
     "text": [
      "root\n",
      " |-- competition_id: string (nullable = true)\n",
      " |-- name: string (nullable = true)\n",
      " |-- type: string (nullable = true)\n",
      " |-- country_id: integer (nullable = true)\n",
      " |-- country_name: string (nullable = true)\n",
      " |-- domestic_league_code: string (nullable = true)\n",
      " |-- confederation: string (nullable = true)\n",
      " |-- url: string (nullable = true)\n",
      "\n",
      "+--------------+---------------+------------------+----------+------------+--------------------+-------------+--------------------+\n",
      "|competition_id|           name|              type|country_id|country_name|domestic_league_code|confederation|                 url|\n",
      "+--------------+---------------+------------------+----------+------------+--------------------+-------------+--------------------+\n",
      "|            L1|     bundesliga|        first_tier|        40|     Germany|                  L1|       europa|https://www.trans...|\n",
      "|           DFB|      dfb-pokal|      domestic_cup|        40|     Germany|                  L1|       europa|https://www.trans...|\n",
      "|           DFL|   dfl-supercup|domestic_super_cup|        40|     Germany|                  L1|       europa|https://www.trans...|\n",
      "|           NL1|     eredivisie|        first_tier|       122| Netherlands|                 NL1|       europa|https://www.trans...|\n",
      "|           NLP|toto-knvb-beker|      domestic_cup|       122| Netherlands|                 NL1|       europa|https://www.trans...|\n",
      "+--------------+---------------+------------------+----------+------------+--------------------+-------------+--------------------+\n",
      "only showing top 5 rows\n",
      "\n"
     ]
    }
   ],
   "source": [
    "competitions = spark.read.csv(\n",
    "    r\"../../data/competitions.csv\",\n",
    "    header=True,\n",
    "    inferSchema=True,\n",
    ")\n",
    "competitions.printSchema()\n",
    "competitions.show(5)"
   ],
   "metadata": {
    "collapsed": false,
    "ExecuteTime": {
     "end_time": "2023-05-17T10:15:07.266519500Z",
     "start_time": "2023-05-17T10:15:06.916500400Z"
    }
   }
  },
  {
   "cell_type": "code",
   "execution_count": 9,
   "outputs": [
    {
     "name": "stdout",
     "output_type": "stream",
     "text": [
      "root\n",
      " |-- game_id: integer (nullable = true)\n",
      " |-- competition_code: string (nullable = true)\n",
      " |-- season: integer (nullable = true)\n",
      " |-- round: string (nullable = true)\n",
      " |-- date: string (nullable = true)\n",
      " |-- home_club_id: integer (nullable = true)\n",
      " |-- away_club_id: integer (nullable = true)\n",
      " |-- home_club_goals: integer (nullable = true)\n",
      " |-- away_club_goals: integer (nullable = true)\n",
      " |-- home_club_position: integer (nullable = true)\n",
      " |-- away_club_position: integer (nullable = true)\n",
      " |-- stadium: string (nullable = true)\n",
      " |-- attendance: integer (nullable = true)\n",
      " |-- referee: string (nullable = true)\n",
      " |-- url: string (nullable = true)\n",
      "\n",
      "+-------+----------------+------+-------------+----------+------------+------------+---------------+---------------+------------------+------------------+--------------------+----------+-----------------+--------------------+\n",
      "|game_id|competition_code|season|        round|      date|home_club_id|away_club_id|home_club_goals|away_club_goals|home_club_position|away_club_position|             stadium|attendance|          referee|                 url|\n",
      "+-------+----------------+------+-------------+----------+------------+------------+---------------+---------------+------------------+------------------+--------------------+----------+-----------------+--------------------+\n",
      "|2457642|            NLSC|  2014|        Final|2014-08-03|        1269|         610|              1|              0|              null|              null| Johan Cruijff ArenA|     42000|   Danny Makkelie|https://www.trans...|\n",
      "|2639088|            BESC|  2013|        Final|2014-07-20|          58|         498|              2|              1|              null|              null|Constant Vanden S...|     13733|  Jonathan Lardot|https://www.trans...|\n",
      "|2481145|             SUC|  2014|final 1st leg|2014-08-19|         418|          13|              1|              1|              null|              null|   Santiago Bernabéu|     75897|Estrada Fernández|https://www.trans...|\n",
      "|2484338|            POSU|  2014|        Final|2014-08-10|         294|        2425|              3|              2|              null|              null|Estádio Municipal...|     30000|     Duarte Gomes|https://www.trans...|\n",
      "|2502472|            FRCH|  2014|        Final|2014-08-02|         583|         855|              2|              0|              null|              null|     Workers Stadium|     39752|   Clément Turpin|https://www.trans...|\n",
      "+-------+----------------+------+-------------+----------+------------+------------+---------------+---------------+------------------+------------------+--------------------+----------+-----------------+--------------------+\n",
      "only showing top 5 rows\n",
      "\n"
     ]
    }
   ],
   "source": [
    "games = spark.read.csv(\n",
    "    r\"../../data/games.csv\",\n",
    "    header=True,\n",
    "    inferSchema=True,\n",
    ")\n",
    "games.printSchema()\n",
    "games.show(5)"
   ],
   "metadata": {
    "collapsed": false,
    "ExecuteTime": {
     "end_time": "2023-05-17T10:15:34.643022400Z",
     "start_time": "2023-05-17T10:15:33.900428400Z"
    }
   }
  },
  {
   "cell_type": "code",
   "execution_count": 10,
   "outputs": [
    {
     "name": "stdout",
     "output_type": "stream",
     "text": [
      "root\n",
      " |-- league_id: string (nullable = true)\n",
      " |-- name: string (nullable = true)\n",
      " |-- confederation: string (nullable = true)\n",
      "\n",
      "+---------+------------------+-------------+\n",
      "|league_id|              name|confederation|\n",
      "+---------+------------------+-------------+\n",
      "|       L1|        bundesliga|       europa|\n",
      "|      NL1|        eredivisie|       europa|\n",
      "|      BE1|jupiler-pro-league|       europa|\n",
      "|      ES1|            laliga|       europa|\n",
      "|      PO1|          liga-nos|       europa|\n",
      "+---------+------------------+-------------+\n",
      "only showing top 5 rows\n",
      "\n"
     ]
    }
   ],
   "source": [
    "leagues = spark.read.csv(\n",
    "    r\"../../data/leagues.csv\",\n",
    "    header=True,\n",
    "    inferSchema=True,\n",
    ")\n",
    "leagues.printSchema()\n",
    "leagues.show(5)"
   ],
   "metadata": {
    "collapsed": false,
    "ExecuteTime": {
     "end_time": "2023-05-17T10:16:18.325785700Z",
     "start_time": "2023-05-17T10:16:18.028711500Z"
    }
   }
  },
  {
   "cell_type": "code",
   "execution_count": 5,
   "outputs": [
    {
     "name": "stdout",
     "output_type": "stream",
     "text": [
      "root\n",
      " |-- player_id: integer (nullable = true)\n",
      " |-- current_club_id: integer (nullable = true)\n",
      " |-- name: string (nullable = true)\n",
      " |-- pretty_name: string (nullable = true)\n",
      " |-- country_of_birth: string (nullable = true)\n",
      " |-- country_of_citizenship: string (nullable = true)\n",
      " |-- date_of_birth: string (nullable = true)\n",
      " |-- position: string (nullable = true)\n",
      " |-- sub_position: string (nullable = true)\n",
      " |-- foot: string (nullable = true)\n",
      " |-- height_in_cm: integer (nullable = true)\n",
      " |-- market_value_in_gbp: double (nullable = true)\n",
      " |-- highest_market_value_in_gbp: double (nullable = true)\n",
      " |-- url: string (nullable = true)\n",
      "\n",
      "+---------+---------------+-------------------+-------------------+----------------+----------------------+-------------+----------+--------------+-----+------------+-------------------+---------------------------+--------------------+\n",
      "|player_id|current_club_id|               name|        pretty_name|country_of_birth|country_of_citizenship|date_of_birth|  position|  sub_position| foot|height_in_cm|market_value_in_gbp|highest_market_value_in_gbp|                 url|\n",
      "+---------+---------------+-------------------+-------------------+----------------+----------------------+-------------+----------+--------------+-----+------------+-------------------+---------------------------+--------------------+\n",
      "|    38790|          28095|     dmitri-golubov|     Dmitri Golubov|           UdSSR|                Russia|   1985-06-24|    Attack|Centre-Forward| Both|         178|               null|                   675000.0|https://www.trans...|\n",
      "|   106539|          28095| aleksandr-vasiljev| Aleksandr Vasiljev|          Russia|                Russia|   1992-01-23|    Attack|  Right Winger|Right|         182|               null|                   225000.0|https://www.trans...|\n",
      "|   164389|           2288|      rory-donnelly|      Rory Donnelly|Northern Ireland|      Northern Ireland|   1992-02-18|    Attack|Centre-Forward|Right|         188|           113000.0|                   225000.0|https://www.trans...|\n",
      "|    45247|           1162|     damien-perquis|     Damien Perquis|          France|                France|   1986-03-08|Goalkeeper|    Goalkeeper|Right|         186|               null|                   900000.0|https://www.trans...|\n",
      "|    97205|          28095|nikita-bezlikhotnov|Nikita Bezlikhotnov|           UdSSR|                Russia|   1990-08-19|    Attack|  Right Winger|Right|         179|               null|                   675000.0|https://www.trans...|\n",
      "+---------+---------------+-------------------+-------------------+----------------+----------------------+-------------+----------+--------------+-----+------------+-------------------+---------------------------+--------------------+\n",
      "only showing top 5 rows\n",
      "\n"
     ]
    }
   ],
   "source": [
    "players = spark.read.csv(\n",
    "    r\"../../data/players.csv\",\n",
    "    header=True,\n",
    "    inferSchema=True,\n",
    ")\n",
    "players.printSchema()\n",
    "players.show(5)"
   ],
   "metadata": {
    "collapsed": false,
    "ExecuteTime": {
     "end_time": "2023-05-17T10:12:12.210263100Z",
     "start_time": "2023-05-17T10:12:11.650975600Z"
    }
   }
  },
  {
   "cell_type": "code",
   "execution_count": 20,
   "outputs": [
    {
     "name": "stdout",
     "output_type": "stream",
     "text": [
      "+----------------+-----+\n",
      "|country_of_birth|count|\n",
      "+----------------+-----+\n",
      "|          France| 1694|\n",
      "|           Spain| 1388|\n",
      "|           Italy| 1312|\n",
      "+----------------+-----+\n",
      "only showing top 3 rows\n",
      "\n"
     ]
    }
   ],
   "source": [
    "# 1. Determine los tres países con mayor número de jugadores(jugadores nacidos en ese país). El resultado debe estar ordenado de forma descendente.\n",
    "\n",
    "(\n",
    "    players\n",
    "    .dropna(\n",
    "        subset=[\"country_of_birth\"],\n",
    "    )\n",
    "    .groupBy(\"country_of_birth\")\n",
    "    .count()\n",
    "    .orderBy(desc(\"count\"))\n",
    "    .show(3)\n",
    ")"
   ],
   "metadata": {
    "collapsed": false,
    "ExecuteTime": {
     "end_time": "2023-05-17T10:27:18.276211400Z",
     "start_time": "2023-05-17T10:27:17.821331200Z"
    }
   }
  },
  {
   "cell_type": "code",
   "execution_count": 23,
   "outputs": [
    {
     "name": "stdout",
     "output_type": "stream",
     "text": [
      "['player_id', 'current_club_id', 'name', 'pretty_name', 'country_of_birth', 'country_of_citizenship', 'date_of_birth', 'position', 'sub_position', 'foot', 'height_in_cm', 'market_value_in_gbp', 'highest_market_value_in_gbp', 'url']\n",
      "['player_id', 'game_id', 'appearance_id', 'competition_id', 'player_club_id', 'goals', 'assists', 'minutes_played', 'yellow_cards', 'red_cards']\n"
     ]
    }
   ],
   "source": [
    "# 2. Obtenga la lista de jugadores con tarjeta roja. La salida debe contener dos columnas, el nombre de pila del jugador y la cantidad de tarjetas rojas que tiene.\n",
    "\n",
    "print(players.columns)\n",
    "print(appearances.columns)"
   ],
   "metadata": {
    "collapsed": false,
    "ExecuteTime": {
     "end_time": "2023-05-17T10:28:36.811079500Z",
     "start_time": "2023-05-17T10:28:36.730749800Z"
    }
   }
  },
  {
   "cell_type": "code",
   "execution_count": 38,
   "outputs": [
    {
     "name": "stdout",
     "output_type": "stream",
     "text": [
      "+--------------------+---------+\n",
      "|         pretty_name|red_cards|\n",
      "+--------------------+---------+\n",
      "|        Granit Xhaka|        5|\n",
      "|    Domenico Berardi|        5|\n",
      "|              Hilton|        5|\n",
      "|          Thomas Lam|        5|\n",
      "|     Mario Balotelli|        5|\n",
      "|     Damien Da Silva|        4|\n",
      "|     Rodrigo De Paul|        4|\n",
      "|             Rodrigo|        4|\n",
      "|         Ivan Ordets|        4|\n",
      "|   Kalidou Koulibaly|        4|\n",
      "|          Jordi Amat|        4|\n",
      "|Timothee Kolodzie...|        4|\n",
      "|          Allan Nyom|        4|\n",
      "|     Roberto Soriano|        4|\n",
      "|       Heung Min Son|        4|\n",
      "|       Ramon Leeuwin|        4|\n",
      "|      Ognjen Vranjes|        4|\n",
      "|     Gabriel Paletta|        4|\n",
      "|         Jaume Costa|        4|\n",
      "|     Yannick Cahuzac|        4|\n",
      "+--------------------+---------+\n",
      "only showing top 20 rows\n",
      "\n"
     ]
    }
   ],
   "source": [
    "players_cards = (\n",
    "    players.join(\n",
    "        appearances,\n",
    "        on=\"player_id\",\n",
    "        how=\"inner\",\n",
    "    )\n",
    ")\n",
    "\n",
    "(\n",
    "    players_cards\n",
    "    .groupBy(\n",
    "        \"player_id\",\n",
    "        \"pretty_name\",\n",
    "    )\n",
    "    .agg(\n",
    "        sum(\n",
    "            \"red_cards\"\n",
    "        ).alias(\"red_cards\")\n",
    "    )\n",
    "    .orderBy(\n",
    "        desc(\"red_cards\")\n",
    "    )\n",
    "    .select(\n",
    "        \"pretty_name\",\n",
    "        \"red_cards\",\n",
    "    )\n",
    "    .show()\n",
    ")"
   ],
   "metadata": {
    "collapsed": false,
    "ExecuteTime": {
     "end_time": "2023-05-17T10:45:18.829783500Z",
     "start_time": "2023-05-17T10:45:16.798596900Z"
    }
   }
  },
  {
   "cell_type": "code",
   "execution_count": 48,
   "outputs": [
    {
     "name": "stdout",
     "output_type": "stream",
     "text": [
      "['competition_id', 'name', 'type', 'country_id', 'country_name', 'domestic_league_code', 'confederation', 'url']\n",
      "['game_id', 'competition_code', 'season', 'round', 'date', 'home_club_id', 'away_club_id', 'home_club_goals', 'away_club_goals', 'home_club_position', 'away_club_position', 'stadium', 'attendance', 'referee', 'url']\n",
      "+--------------+--------------+----------+----------+------------+--------------------+-------------+--------------------+\n",
      "|competition_id|          name|      type|country_id|country_name|domestic_league_code|confederation|                 url|\n",
      "+--------------+--------------+----------+----------+------------+--------------------+-------------+--------------------+\n",
      "|           GB1|premier-league|first_tier|       189|     England|                 GB1|       europa|https://www.trans...|\n",
      "+--------------+--------------+----------+----------+------------+--------------------+-------------+--------------------+\n",
      "\n"
     ]
    }
   ],
   "source": [
    "# 3. ¿Cuántos juegos se jugaron en la Premier League? La salida debe contener dos columnas, el nombre de la liga y la cantidad de juegos que se jugaron en ella.\n",
    "print(competitions.columns)\n",
    "print(games.columns)"
   ],
   "metadata": {
    "collapsed": false,
    "ExecuteTime": {
     "end_time": "2023-05-17T10:51:16.979494800Z",
     "start_time": "2023-05-17T10:51:16.849498300Z"
    }
   }
  },
  {
   "cell_type": "code",
   "execution_count": 84,
   "outputs": [
    {
     "name": "stdout",
     "output_type": "stream",
     "text": [
      "+--------------+-----------+\n",
      "|          name|games_count|\n",
      "+--------------+-----------+\n",
      "|premier-league|       2809|\n",
      "+--------------+-----------+\n",
      "\n"
     ]
    }
   ],
   "source": [
    "games_premier = (\n",
    "    competitions.join(\n",
    "        other=games,\n",
    "        on=competitions.competition_id == games.competition_code,\n",
    "        how=\"inner\",\n",
    "    )\n",
    "    .groupBy(\n",
    "        \"competition_id\",\n",
    "        \"name\",\n",
    "    )\n",
    "    .agg(\n",
    "        count(\"*\").alias(\"games_count\")\n",
    "    )\n",
    "    .select(\"name\", \"games_count\")\n",
    "    .where(col(\"name\") == \"premier-league\")\n",
    ")\n",
    "\n",
    "games_premier.show()"
   ],
   "metadata": {
    "collapsed": false,
    "ExecuteTime": {
     "end_time": "2023-05-17T12:51:51.046527900Z",
     "start_time": "2023-05-17T12:51:50.293199500Z"
    }
   }
  },
  {
   "cell_type": "code",
   "execution_count": 75,
   "outputs": [
    {
     "name": "stdout",
     "output_type": "stream",
     "text": [
      "['league_id', 'name', 'confederation']\n",
      "['competition_id', 'name', 'type', 'country_id', 'country_name', 'domestic_league_code', 'confederation', 'url']\n",
      "['game_id', 'competition_code', 'season', 'round', 'date', 'home_club_id', 'away_club_id', 'home_club_goals', 'away_club_goals', 'home_club_position', 'away_club_position', 'stadium', 'attendance', 'referee', 'url']\n"
     ]
    }
   ],
   "source": [
    "# 4. Obtenga las tres ligas con mayor número de asistencia de público teniendo en cuenta todos los juegos que se jugaron en ellas. El resultado debe estar ordenado de forma descendente y tener dos columnas, el nombre de la liga y la asistencia total.\n",
    "\n",
    "print(leagues.columns)\n",
    "print(competitions.columns)\n",
    "print(games.columns)\n",
    "# print(clubs.columns)"
   ],
   "metadata": {
    "collapsed": false,
    "ExecuteTime": {
     "end_time": "2023-05-17T11:39:02.906258700Z",
     "start_time": "2023-05-17T11:39:02.835951400Z"
    }
   }
  },
  {
   "cell_type": "code",
   "execution_count": 82,
   "outputs": [
    {
     "name": "stdout",
     "output_type": "stream",
     "text": [
      "+--------------------+----------------+\n",
      "|                name|total_attendance|\n",
      "+--------------------+----------------+\n",
      "|      premier-league|        86964852|\n",
      "|          bundesliga|        78102473|\n",
      "|              laliga|        62943533|\n",
      "|             serie-a|        53475147|\n",
      "|             ligue-1|        51593963|\n",
      "|          eredivisie|        34572418|\n",
      "|        premier-liga|        20878744|\n",
      "|  liga-portugal-bwin|        20072843|\n",
      "|  jupiler-pro-league|        17817099|\n",
      "|           super-lig|        17455236|\n",
      "|scottish-premiership|        17379753|\n",
      "|         superligaen|         7945555|\n",
      "|      super-league-1|         6417136|\n",
      "|        premier-liga|         4944837|\n",
      "+--------------------+----------------+\n",
      "\n"
     ]
    }
   ],
   "source": [
    "competitions_leagues = (\n",
    "    competitions.join(\n",
    "        other=leagues,\n",
    "        on=competitions.competition_id == leagues.league_id,\n",
    "        how=\"inner\",\n",
    "    )\n",
    ")\n",
    "\n",
    "leagues_games = (\n",
    "    competitions_leagues.join(\n",
    "        other=games,\n",
    "        on=competitions_leagues.competition_id == games.competition_code,\n",
    "        how=\"inner\",\n",
    "    )\n",
    ")\n",
    "\n",
    "(\n",
    "    leagues_games\n",
    "    .groupBy(\n",
    "        competitions.competition_id,\n",
    "        competitions.name\n",
    "    )\n",
    "    .agg(\n",
    "        sum(games.attendance).alias(\"total_attendance\")\n",
    "    )\n",
    "    .orderBy(\n",
    "        desc(\"total_attendance\")\n",
    "    )\n",
    "    .select(\n",
    "        competitions.name,\n",
    "        \"total_attendance\",\n",
    "    )\n",
    "    .show()\n",
    ")"
   ],
   "metadata": {
    "collapsed": false,
    "ExecuteTime": {
     "end_time": "2023-05-17T11:48:11.825511Z",
     "start_time": "2023-05-17T11:48:11.294795700Z"
    }
   }
  },
  {
   "cell_type": "code",
   "execution_count": null,
   "outputs": [],
   "source": [],
   "metadata": {
    "collapsed": false
   }
  }
 ],
 "metadata": {
  "kernelspec": {
   "display_name": "Python 3",
   "language": "python",
   "name": "python3"
  },
  "language_info": {
   "codemirror_mode": {
    "name": "ipython",
    "version": 2
   },
   "file_extension": ".py",
   "mimetype": "text/x-python",
   "name": "python",
   "nbconvert_exporter": "python",
   "pygments_lexer": "ipython2",
   "version": "2.7.6"
  }
 },
 "nbformat": 4,
 "nbformat_minor": 0
}
