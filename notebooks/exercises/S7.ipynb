{
 "cells": [
  {
   "cell_type": "markdown",
   "source": [],
   "metadata": {
    "collapsed": false
   }
  },
  {
   "cell_type": "markdown",
   "source": [
    "1. A partir del archivo csv Case, determine las tres ciudades con más casos confirmados de la enfermedad. La salida debe contener tres columnas: provincia, ciudad y casos confirmados. El resultado debe contener exactamente los tres nombre de ciudades con más casos confirmados ya que no se admiten otros valores.\n",
    "\n",
    "2. Cree un dataframe a partir del archivo csv PatientInfo. Asegúrese de que su dataframe no contenga pacientes duplicados.\n",
    "\n",
    "    a. ¿Cuántos pacientes tienen informado por quién se contagiaron(columna infected_by)? Obtenga solo los pacientes que tengan informado por quién se contagiaron.\n",
    "\n",
    "    b. A partir de la salida del inciso anterior obtenga solo los pacientes femeninos. La salida no debe contener las columnas released_date y deceased_date.\n",
    "\n",
    "    c. Establezca el número de particiones del dataframe resultante del inciso anterior en dos. Escriba el dataframe resultante en un archivo parquet. La salida debe estar particionada por la provincia y el modo de escritura debe ser overwrite."
   ],
   "metadata": {
    "collapsed": false
   }
  },
  {
   "cell_type": "code",
   "execution_count": null,
   "outputs": [],
   "source": [
    "import findspark\n",
    "\n",
    "findspark.init()\n",
    "\n",
    "from pyspark.sql import SparkSession, Row\n",
    "from pyspark import SparkContext\n",
    "from pyspark.sql.types import StructType, StructField, IntegerType, StringType, FloatType, DateType\n",
    "from pyspark.sql.functions import col, countDistinct, desc, asc\n",
    "from pyspark.storagelevel import StorageLevel\n",
    "\n",
    "spark = SparkSession.builder.master(\"local[*]\").getOrCreate()\n",
    "\n",
    "sc: SparkContext = spark.sparkContext"
   ],
   "metadata": {
    "collapsed": false
   }
  },
  {
   "cell_type": "code",
   "execution_count": null,
   "outputs": [],
   "source": [
    "# 1\n",
    "case_df = spark.read.csv(\n",
    "    r\"../../data/s7_data/Case.csv\",\n",
    "    header=True,\n",
    "    inferSchema=True,\n",
    ").withColumnRenamed(\n",
    "    \" case_id\",\n",
    "    \"case_id\"\n",
    ")\n",
    "\n",
    "clean_case_df = (\n",
    "    case_df.dropna(\n",
    "        subset=[\"city\"],\n",
    "    )\n",
    "    .filter(\n",
    "        (col(\"city\") != \"-\") &\n",
    "        (col(\"city\") != \"from other city\")\n",
    "    )\n",
    "    .select(\n",
    "        col(\"province\"),\n",
    "        col(\"city\"),\n",
    "        col(\"confirmed\"),\n",
    "    )\n",
    "    .orderBy(\n",
    "        col(\"confirmed\").desc()\n",
    "    )\n",
    "    .limit(3)\n",
    ")\n",
    "clean_case_df.show()"
   ],
   "metadata": {
    "collapsed": false
   }
  },
  {
   "cell_type": "code",
   "execution_count": null,
   "outputs": [],
   "source": [
    "# 2\n",
    "patient_df = spark.read.csv(\n",
    "    r\"../../data/s7_data/PatientInfo.csv\",\n",
    "    header=True,\n",
    "    inferSchema=True,\n",
    ").dropDuplicates()"
   ],
   "metadata": {
    "collapsed": false
   }
  },
  {
   "cell_type": "code",
   "execution_count": 51,
   "outputs": [
    {
     "data": {
      "text/plain": "1346"
     },
     "execution_count": 51,
     "metadata": {},
     "output_type": "execute_result"
    }
   ],
   "source": [
    "# a\n",
    "infected_by = (\n",
    "    patient_df\n",
    "    .dropna(\n",
    "        subset=[\"infected_by\"],\n",
    "    )\n",
    ")\n",
    "\n",
    "# infected_by.show(\n",
    "#     n=infected_by.count(),\n",
    "#     truncate=False,\n",
    "# )\n",
    "\n",
    "infected_by.count()"
   ],
   "metadata": {
    "collapsed": false,
    "ExecuteTime": {
     "end_time": "2023-05-16T15:08:20.314880600Z",
     "start_time": "2023-05-16T15:08:19.738216700Z"
    }
   }
  },
  {
   "cell_type": "code",
   "execution_count": null,
   "outputs": [],
   "source": [
    "# b\n",
    "female_infected = (\n",
    "    infected_by\n",
    "    .filter(\n",
    "        (col(\"sex\") == \"female\"),\n",
    "    )\n",
    "    .drop(\n",
    "        \"released_date\",\n",
    "        \"deceased_date\"\n",
    "    )\n",
    ")\n",
    "\n",
    "female_infected.show()"
   ],
   "metadata": {
    "collapsed": false
   }
  },
  {
   "cell_type": "code",
   "execution_count": null,
   "outputs": [],
   "source": [
    "# c\n",
    "female_infected.coalesce(2)\n",
    "\n",
    "female_infected.write.partitionBy(\"province\").parquet(\n",
    "    path=r\"./data/s7_out\",\n",
    "    mode=\"overwrite\"\n",
    ")"
   ],
   "metadata": {
    "collapsed": false
   }
  },
  {
   "cell_type": "code",
   "execution_count": null,
   "outputs": [],
   "source": [],
   "metadata": {
    "collapsed": false
   }
  }
 ],
 "metadata": {
  "kernelspec": {
   "display_name": "Python 3",
   "language": "python",
   "name": "python3"
  },
  "language_info": {
   "codemirror_mode": {
    "name": "ipython",
    "version": 2
   },
   "file_extension": ".py",
   "mimetype": "text/x-python",
   "name": "python",
   "nbconvert_exporter": "python",
   "pygments_lexer": "ipython2",
   "version": "2.7.6"
  }
 },
 "nbformat": 4,
 "nbformat_minor": 0
}
