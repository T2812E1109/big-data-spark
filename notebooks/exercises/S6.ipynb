{
 "cells": [
  {
   "cell_type": "markdown",
   "source": [
    "1. Cree un RDD importes a partir de los datos adjuntos a esta lección como recurso. Emplee acumuladores para obtener el total de ventas realizadas y el importe total de las ventas.\n",
    "\n",
    "2. Si se conoce que a cada venta hay que restarle un importe fijo igual a 10 pesos por temas de impuestos.\n",
    "\n",
    "    a. ¿Cómo restaría este impuesto de cada venta utilizando una variable broadcast para acelerar el proceso?\n",
    "\n",
    "    b. Cree un RDD llamado ventas_sin_impuestos a partir de la propuesta del inciso a que contenga las ventas sin impuestos.\n",
    "\n",
    "    c. Destruya la variable broadcast creada luego de emplearla para crear el RDD del inciso b.\n",
    "\n",
    "3. Persista el RDD ventas_sin_impuestos en los siguientes niveles de persistencia.\n",
    "\n",
    "    a. Memoria.\n",
    "\n",
    "    b. Disco solamente\n",
    "\n",
    "    c. Memoria y disco."
   ],
   "metadata": {
    "collapsed": false
   }
  },
  {
   "cell_type": "code",
   "execution_count": 10,
   "outputs": [],
   "source": [
    "import findspark\n",
    "\n",
    "findspark.init()\n",
    "\n",
    "from pyspark.sql import SparkSession\n",
    "from pyspark import SparkContext\n",
    "from pyspark.storagelevel import StorageLevel\n",
    "\n",
    "spark = SparkSession.builder.master(\"local[*]\").getOrCreate()\n",
    "\n",
    "sc: SparkContext = spark.sparkContext"
   ],
   "metadata": {
    "collapsed": false,
    "ExecuteTime": {
     "end_time": "2023-05-12T11:17:46.872187700Z",
     "start_time": "2023-05-12T11:17:46.849850300Z"
    }
   }
  },
  {
   "cell_type": "code",
   "execution_count": 3,
   "outputs": [
    {
     "name": "stdout",
     "output_type": "stream",
     "text": [
      "Total ventas: 10000, total importe: 5042335\n"
     ]
    }
   ],
   "source": [
    "# 1\n",
    "rdd = sc.textFile(r\"../../data/rdd.txt\")\n",
    "# Total ventas\n",
    "total_ventas = rdd.count()\n",
    "# Total importe\n",
    "total_importe = sc.accumulator(0)\n",
    "\n",
    "rdd.foreach(lambda x: total_importe.add(int(x)))\n",
    "\n",
    "print(f\"Total ventas: {total_ventas}, total importe: {total_importe}\")"
   ],
   "metadata": {
    "collapsed": false,
    "ExecuteTime": {
     "end_time": "2023-05-12T11:12:46.318297600Z",
     "start_time": "2023-05-12T11:12:42.879031600Z"
    }
   }
  },
  {
   "cell_type": "code",
   "execution_count": 9,
   "outputs": [
    {
     "data": {
      "text/plain": "[517,\n 376,\n 691,\n 230,\n 931,\n 17,\n 386,\n 46,\n 446,\n 138,\n 150,\n 219,\n 428,\n 819,\n 120,\n 376,\n 903,\n 859,\n 690,\n 83,\n 324,\n 319,\n 766,\n 872,\n 580,\n 981,\n 109,\n 711,\n 78,\n 49,\n 713,\n 108,\n 736,\n 688,\n 497,\n 575,\n 712,\n 362,\n 49,\n 959,\n 899,\n 345,\n 63,\n 591,\n 314,\n 646,\n 536,\n 308,\n 826,\n 745,\n 123,\n 363,\n 113,\n 469,\n 274,\n 791,\n 814,\n 402,\n 378,\n 599,\n 119,\n 904,\n 908,\n 500,\n 480,\n 985,\n 769,\n 803,\n 228,\n 135,\n 634,\n 496,\n 556,\n 31,\n 748,\n 818,\n 119,\n 842,\n 765,\n 273,\n 442,\n 231,\n 193,\n 743,\n 837,\n 807,\n 127,\n 153,\n 456,\n 488,\n 104,\n 21,\n 39,\n 634,\n 142,\n 26,\n 856,\n 252,\n 652,\n 801,\n 315,\n 535,\n 985,\n 624,\n 541,\n 17,\n 600,\n 454,\n 576,\n 245,\n 506,\n 2,\n 471,\n 199,\n 722,\n 903,\n 705,\n 218,\n 745,\n 283,\n 431,\n 722,\n 333,\n 985,\n 61,\n 306,\n 963,\n 765,\n 831,\n 128,\n 634,\n 719,\n 750,\n 983,\n 888,\n 590,\n 262,\n 366,\n 520,\n 857,\n 206,\n 785,\n 655,\n 106,\n 578,\n 626,\n 596,\n 133,\n 507,\n 377,\n 914,\n 699,\n 499,\n 419,\n 330,\n 328,\n 280,\n 584,\n 875,\n 557,\n 814,\n 703,\n 624,\n 474,\n 826,\n 160,\n 67,\n 926,\n 662,\n 950,\n 47,\n 418,\n 755,\n 653,\n 387,\n 370,\n 124,\n 363,\n 223,\n 863,\n 15,\n 561,\n 345,\n 883,\n 948,\n 711,\n 135,\n 579,\n 286,\n 418,\n 41,\n 511,\n 552,\n 738,\n 702,\n 744,\n 968,\n 573,\n 502,\n 108,\n 478,\n 422,\n 335,\n 106,\n 669,\n 792,\n 875,\n 880,\n 428,\n 289,\n 670,\n 963,\n 520,\n 502,\n 181,\n 31,\n 988,\n 797,\n 230,\n 299,\n 623,\n 880,\n 729,\n 208,\n 931,\n 827,\n 625,\n 253,\n 158,\n 131,\n 954,\n 659,\n 169,\n 479,\n 277,\n 381,\n 451,\n 107,\n 407,\n 709,\n 460,\n 334,\n 854,\n 530,\n 762,\n 386,\n 235,\n 525,\n 594,\n 748,\n 229,\n 731,\n 565,\n 288,\n 30,\n 575,\n 369,\n 509,\n 176,\n 876,\n 767,\n 713,\n 528,\n 103,\n 728,\n 694,\n 474,\n 839,\n 475,\n 9,\n 569,\n 368,\n 561,\n 486,\n 360,\n 384,\n 105,\n 238,\n 864,\n 763,\n 472,\n 256,\n 761,\n 126,\n 99,\n 415,\n 424,\n 816,\n 339,\n 93,\n 194,\n 639,\n 84,\n 850,\n 559,\n 256,\n 632,\n 54,\n 854,\n 92,\n 481,\n 616,\n 799,\n 762,\n 874,\n 138,\n 588,\n 864,\n 200,\n 150,\n 457,\n 308,\n 677,\n 982,\n 742,\n 491,\n 816,\n 217,\n 765,\n 886,\n 426,\n 553,\n 638,\n 696,\n 480,\n 291,\n 143,\n 589,\n 203,\n 706,\n 677,\n 256,\n 600,\n 979,\n 950,\n 140,\n 226,\n 224,\n 342,\n 790,\n 702,\n 812,\n 646,\n 711,\n 249,\n 513,\n 511,\n 23,\n 875,\n 404,\n 17,\n 524,\n 167,\n 493,\n 276,\n 328,\n 373,\n 558,\n 556,\n 741,\n 740,\n 828,\n 704,\n 82,\n 125,\n 331,\n 203,\n 618,\n 577,\n 651,\n 832,\n 121,\n 942,\n 105,\n 572,\n 91,\n 533,\n 256,\n 524,\n 449,\n 606,\n 293,\n 806,\n 90,\n 88,\n 669,\n 53,\n 495,\n 3,\n 896,\n 116,\n 2,\n 926,\n -9,\n 724,\n 918,\n 605,\n 123,\n 856,\n 615,\n 469,\n 849,\n 600,\n 939,\n 783,\n 617,\n 894,\n 231,\n 318,\n 470,\n 293,\n 533,\n 578,\n 907,\n 510,\n 94,\n 338,\n 616,\n 969,\n 340,\n 144,\n 315,\n 571,\n 114,\n 833,\n 208,\n 286,\n 902,\n 648,\n 848,\n 925,\n 115,\n 371,\n 337,\n 849,\n 84,\n 979,\n 957,\n 820,\n 732,\n 407,\n 660,\n 378,\n 861,\n 599,\n 874,\n 300,\n 657,\n 31,\n 719,\n 70,\n -2,\n 642,\n 500,\n 237,\n 127,\n 811,\n 32,\n 573,\n 42,\n 413,\n 336,\n 936,\n 580,\n 11,\n 574,\n 587,\n 723,\n 189,\n 94,\n 137,\n 938,\n 846,\n 215,\n 817,\n 76,\n 823,\n 444,\n 372,\n 483,\n 897,\n 609,\n 797,\n 71,\n 349,\n 529,\n 930,\n 160,\n 353,\n 719,\n 752,\n 338,\n 81,\n 327,\n 255,\n 923,\n 165,\n 482,\n 157,\n 263,\n 277,\n 755,\n 929,\n 801,\n 436,\n 706,\n 780,\n 105,\n 964,\n 193,\n 448,\n 626,\n 46,\n 165,\n 46,\n 283,\n -2,\n 581,\n -8,\n -1,\n 48,\n 916,\n 57,\n 223,\n 615,\n 335,\n 815,\n 118,\n 427,\n 725,\n 461,\n 356,\n 26,\n 632,\n 328,\n 419,\n 968,\n 710,\n 288,\n 750,\n 149,\n 303,\n 983,\n 353,\n 729,\n -9,\n 117,\n 899,\n 583,\n 39,\n 676,\n 815,\n 165,\n 863,\n 603,\n 138,\n 924,\n 138,\n 694,\n 789,\n 115,\n 432,\n 424,\n 229,\n 65,\n 341,\n 371,\n 983,\n 334,\n 266,\n 693,\n 783,\n 413,\n 6,\n 351,\n 804,\n 123,\n 106,\n 979,\n 723,\n 491,\n 874,\n 51,\n 821,\n 383,\n 497,\n 803,\n 735,\n 614,\n 563,\n 537,\n 214,\n 649,\n 983,\n 468,\n 650,\n 111,\n 806,\n 771,\n 469,\n 931,\n 896,\n 234,\n 880,\n 404,\n 475,\n 815,\n 176,\n 565,\n 308,\n 53,\n 146,\n 191,\n 874,\n 865,\n 583,\n 716,\n 151,\n 905,\n 269,\n 594,\n 844,\n 509,\n 703,\n 448,\n 890,\n 283,\n 817,\n 321,\n 752,\n 714,\n 280,\n 747,\n 372,\n 457,\n 244,\n 793,\n 61,\n 929,\n 342,\n 14,\n 588,\n 541,\n 253,\n 863,\n 19,\n 731,\n 497,\n 811,\n 133,\n 374,\n 12,\n 507,\n 636,\n 425,\n 788,\n 822,\n 249,\n 866,\n 700,\n 787,\n 804,\n 909,\n 428,\n 785,\n 211,\n 151,\n 496,\n 570,\n 816,\n 849,\n 687,\n 401,\n 946,\n 184,\n 494,\n 231,\n 520,\n 831,\n 893,\n 288,\n 824,\n 123,\n 564,\n 242,\n 7,\n 343,\n 280,\n 322,\n 610,\n 944,\n 317,\n 833,\n 643,\n 934,\n 491,\n 546,\n 504,\n 409,\n 947,\n 630,\n 309,\n 435,\n 582,\n 730,\n 230,\n 841,\n 464,\n 148,\n 855,\n 566,\n 694,\n 258,\n 918,\n 589,\n 607,\n 204,\n 825,\n 517,\n 246,\n 908,\n 259,\n 211,\n 202,\n 275,\n 828,\n 620,\n 984,\n 192,\n 533,\n 731,\n 685,\n 769,\n 345,\n 6,\n 821,\n 377,\n -4,\n 33,\n 487,\n 188,\n 366,\n 858,\n 346,\n 683,\n 131,\n 90,\n 359,\n 103,\n 488,\n 734,\n 76,\n 469,\n 170,\n 938,\n 203,\n 57,\n 783,\n 534,\n 446,\n 249,\n 806,\n 153,\n 449,\n 870,\n 75,\n 460,\n 45,\n 104,\n 125,\n 739,\n 289,\n 613,\n 806,\n 887,\n 842,\n 165,\n 447,\n 486,\n 106,\n 322,\n 179,\n 680,\n 118,\n 864,\n 143,\n 290,\n 163,\n 811,\n 87,\n 1,\n 511,\n 153,\n 889,\n 787,\n 890,\n 228,\n 650,\n 214,\n 840,\n 219,\n 661,\n 79,\n 411,\n 106,\n 111,\n 163,\n 326,\n 303,\n 468,\n 530,\n 240,\n 93,\n 689,\n 361,\n 803,\n 704,\n 851,\n 1,\n -8,\n 457,\n 720,\n 699,\n 606,\n 904,\n 422,\n 590,\n 620,\n 369,\n 497,\n 952,\n 848,\n 732,\n 606,\n 220,\n 427,\n 539,\n 961,\n 729,\n 917,\n 781,\n 738,\n 649,\n 365,\n 321,\n 341,\n 866,\n 269,\n 666,\n 408,\n 433,\n 590,\n 235,\n 667,\n 572,\n 181,\n 550,\n 205,\n 93,\n 740,\n -8,\n 194,\n 410,\n 676,\n 889,\n -4,\n 272,\n 962,\n 810,\n 398,\n 109,\n 446,\n 705,\n 523,\n 347,\n 215,\n 706,\n 156,\n 881,\n 895,\n 479,\n 445,\n 545,\n 902,\n 376,\n 418,\n 213,\n 158,\n 823,\n 653,\n 50,\n 182,\n 755,\n 1,\n 871,\n 531,\n 859,\n 702,\n 754,\n 485,\n 252,\n 532,\n 852,\n 30,\n 45,\n 429,\n 359,\n 568,\n 757,\n 525,\n 535,\n 559,\n 340,\n 864,\n 793,\n 830,\n 238,\n 737,\n 431,\n 366,\n 506,\n 197,\n 382,\n 561,\n 708,\n 924,\n 981,\n 103,\n 902,\n 547,\n 112,\n 259,\n 429,\n 923,\n 87,\n 910,\n 148,\n 718,\n 512,\n 708,\n 316,\n 930,\n 598,\n 986,\n 703,\n 973,\n 284,\n 716,\n 640,\n 950,\n 425,\n 876,\n 982,\n 29,\n 762,\n 131,\n 40,\n 556,\n 122,\n 930,\n 455,\n 163,\n 80,\n 114,\n 271,\n 439,\n 335,\n 17,\n 223,\n 243,\n 183,\n 601,\n 162,\n 712,\n 462,\n 808,\n 92,\n 403,\n 8,\n 200,\n -3,\n 465,\n 696,\n 313,\n 584,\n 345,\n 656,\n 450,\n 172,\n 101,\n 655,\n 269,\n 931,\n 847,\n 653,\n 190,\n 775,\n 897,\n 293,\n 474,\n ...]"
     },
     "execution_count": 9,
     "metadata": {},
     "output_type": "execute_result"
    }
   ],
   "source": [
    "# 2 a, b y c\n",
    "impuesto = sc.broadcast(10)\n",
    "ventas_sin_impuesto = rdd.map(lambda x: int(x) - impuesto.value)\n",
    "ventas_sin_impuesto.collect()\n",
    "impuesto.destroy()"
   ],
   "metadata": {
    "collapsed": false,
    "ExecuteTime": {
     "end_time": "2023-05-12T11:16:24.554418800Z",
     "start_time": "2023-05-12T11:16:22.739259800Z"
    }
   }
  },
  {
   "cell_type": "code",
   "execution_count": 16,
   "outputs": [
    {
     "data": {
      "text/plain": "PythonRDD[13] at collect at C:\\Users\\Jaime\\AppData\\Local\\Temp\\ipykernel_2516\\1507506666.py:4"
     },
     "execution_count": 16,
     "metadata": {},
     "output_type": "execute_result"
    }
   ],
   "source": [
    "# 3\n",
    "\n",
    "# a\n",
    "ventas_sin_impuesto.persist(StorageLevel.MEMORY_ONLY)"
   ],
   "metadata": {
    "collapsed": false,
    "ExecuteTime": {
     "end_time": "2023-05-12T11:20:33.521289900Z",
     "start_time": "2023-05-12T11:20:33.468074700Z"
    }
   }
  },
  {
   "cell_type": "code",
   "execution_count": 18,
   "outputs": [
    {
     "data": {
      "text/plain": "PythonRDD[13] at collect at C:\\Users\\Jaime\\AppData\\Local\\Temp\\ipykernel_2516\\1507506666.py:4"
     },
     "execution_count": 18,
     "metadata": {},
     "output_type": "execute_result"
    }
   ],
   "source": [
    "# b\n",
    "ventas_sin_impuesto.unpersist()\n",
    "ventas_sin_impuesto.persist(StorageLevel.DISK_ONLY)"
   ],
   "metadata": {
    "collapsed": false,
    "ExecuteTime": {
     "end_time": "2023-05-12T11:21:17.996265400Z",
     "start_time": "2023-05-12T11:21:17.954473100Z"
    }
   }
  },
  {
   "cell_type": "code",
   "execution_count": 19,
   "outputs": [
    {
     "data": {
      "text/plain": "PythonRDD[13] at collect at C:\\Users\\Jaime\\AppData\\Local\\Temp\\ipykernel_2516\\1507506666.py:4"
     },
     "execution_count": 19,
     "metadata": {},
     "output_type": "execute_result"
    }
   ],
   "source": [
    "# c\n",
    "ventas_sin_impuesto.unpersist()\n",
    "ventas_sin_impuesto.persist(StorageLevel.MEMORY_AND_DISK)\n",
    "ventas_sin_impuesto.unpersist()"
   ],
   "metadata": {
    "collapsed": false,
    "ExecuteTime": {
     "end_time": "2023-05-12T11:21:20.748284Z",
     "start_time": "2023-05-12T11:21:20.691384400Z"
    }
   }
  }
 ],
 "metadata": {
  "kernelspec": {
   "display_name": "Python 3",
   "language": "python",
   "name": "python3"
  },
  "language_info": {
   "codemirror_mode": {
    "name": "ipython",
    "version": 2
   },
   "file_extension": ".py",
   "mimetype": "text/x-python",
   "name": "python",
   "nbconvert_exporter": "python",
   "pygments_lexer": "ipython2",
   "version": "2.7.6"
  }
 },
 "nbformat": 4,
 "nbformat_minor": 0
}
