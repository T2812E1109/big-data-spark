{
 "cells": [
  {
   "cell_type": "markdown",
   "source": [
    "1. Cree un RDD llamado importes a partir del archivo adjunto a esta lección como recurso.\n",
    "\n",
    "    a. ¿Cuántos registros tiene el RDD importes?\n",
    "\n",
    "    b. ¿Cuál es el valor mínimo y máximo del RDD importes?\n",
    "\n",
    "    c. Cree un RDD top15 que contenga los 15 mayores valores del RDD importes. Tenga en cuenta que pueden repetirse los valores. Por último, escriba el RDD top15 como archivo de texto en la carpeta data/salida.\n",
    "\n",
    "2. Cree una función llamada factorial que calcule el factorial de un número dado como parámetro. Utilice RDDs para el cálculo."
   ],
   "metadata": {
    "collapsed": false
   }
  },
  {
   "cell_type": "code",
   "execution_count": 1,
   "outputs": [],
   "source": [
    "import findspark\n",
    "\n",
    "findspark.init()\n",
    "\n",
    "from pyspark.sql import SparkSession\n",
    "from pyspark import SparkContext\n",
    "\n",
    "spark = SparkSession.builder.master(\"local[*]\").getOrCreate()\n",
    "\n",
    "sc: SparkContext = spark.sparkContext"
   ],
   "metadata": {
    "collapsed": false,
    "ExecuteTime": {
     "end_time": "2023-05-12T08:30:13.550115600Z",
     "start_time": "2023-05-12T08:30:04.772219300Z"
    }
   }
  },
  {
   "cell_type": "code",
   "execution_count": 3,
   "outputs": [],
   "source": [
    "# 1\n",
    "importes = sc.textFile(\"../../data/num.txt\")"
   ],
   "metadata": {
    "collapsed": false,
    "ExecuteTime": {
     "end_time": "2023-05-12T08:33:32.459697700Z",
     "start_time": "2023-05-12T08:33:31.562141600Z"
    }
   }
  },
  {
   "cell_type": "code",
   "execution_count": 4,
   "outputs": [
    {
     "name": "stdout",
     "output_type": "stream",
     "text": [
      "Number of records: 233\n"
     ]
    }
   ],
   "source": [
    "# a\n",
    "print(f\"Number of records: {importes.count()}\")"
   ],
   "metadata": {
    "collapsed": false,
    "ExecuteTime": {
     "end_time": "2023-05-12T08:33:36.557914100Z",
     "start_time": "2023-05-12T08:33:33.823796Z"
    }
   }
  },
  {
   "cell_type": "code",
   "execution_count": 5,
   "outputs": [
    {
     "name": "stdout",
     "output_type": "stream",
     "text": [
      "Min. value: 1, max. value: 99\n"
     ]
    }
   ],
   "source": [
    "# b\n",
    "print(f\"Min. value: {importes.min()}, max. value: {importes.max()}\")"
   ],
   "metadata": {
    "collapsed": false,
    "ExecuteTime": {
     "end_time": "2023-05-12T08:33:39.625202400Z",
     "start_time": "2023-05-12T08:33:36.557914100Z"
    }
   }
  },
  {
   "cell_type": "code",
   "execution_count": 8,
   "outputs": [],
   "source": [
    "# c\n",
    "# top_15_list = importes.map(lambda x: int(x)).takeOrdered(15, key=lambda x: -x)\n",
    "top_15_list = importes.map(lambda x: int(x)).top(15)\n",
    "print(top_15_list)\n",
    "sc.parallelize(top_15_list).saveAsTextFile(\"data/salida\")"
   ],
   "metadata": {
    "collapsed": false,
    "ExecuteTime": {
     "end_time": "2023-05-12T08:40:03.258782900Z",
     "start_time": "2023-05-12T08:39:51.995268400Z"
    }
   }
  },
  {
   "cell_type": "code",
   "execution_count": 18,
   "outputs": [
    {
     "name": "stdout",
     "output_type": "stream",
     "text": [
      "93326215443944152681699238856266700490715968264381621468592963895217599993229915608941463976156518286253697920827223758251185210916864000000000000000000000000\n"
     ]
    }
   ],
   "source": [
    "# 2\n",
    "def factorial(n: int):\n",
    "    if n == 0:\n",
    "        return 1\n",
    "\n",
    "    return sc.parallelize([i for i in range(1, n + 1)]).reduce(lambda x, y: x * y)\n",
    "\n",
    "print(factorial(100))"
   ],
   "metadata": {
    "collapsed": false,
    "ExecuteTime": {
     "end_time": "2023-05-12T09:11:27.344638800Z",
     "start_time": "2023-05-12T09:11:18.262515500Z"
    }
   }
  },
  {
   "cell_type": "code",
   "execution_count": null,
   "outputs": [],
   "source": [],
   "metadata": {
    "collapsed": false
   }
  }
 ],
 "metadata": {
  "kernelspec": {
   "display_name": "Python 3",
   "language": "python",
   "name": "python3"
  },
  "language_info": {
   "codemirror_mode": {
    "name": "ipython",
    "version": 2
   },
   "file_extension": ".py",
   "mimetype": "text/x-python",
   "name": "python",
   "nbconvert_exporter": "python",
   "pygments_lexer": "ipython2",
   "version": "2.7.6"
  }
 },
 "nbformat": 4,
 "nbformat_minor": 0
}
