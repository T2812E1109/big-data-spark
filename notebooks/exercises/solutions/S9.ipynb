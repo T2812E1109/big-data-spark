{
 "cells": [
  {
   "cell_type": "markdown",
   "source": [
    "Cada línea del archivo movies.csv representa a un actor que actuó en una película. Si una película tiene diez actores, habrá diez filas para esa película en particular.\n",
    "\n",
    "\n",
    "\n",
    "1. Calcule la cantidad de películas en las que participó cada actor. La salida debe tener dos columnas: actor y conteo. La salida debe ordenarse por el conteo en orden descendente.\n",
    "\n",
    "2. Calcule la cantidad de películas producidas cada año. La salida debe tener tres columnas: año, siglo al que pertenece el año y conteo. La salida debe ordenarse por el conteo en orden descendente.\n",
    "\n",
    "3. Obtenga la película con la calificación más alta por año. La salida debe tener solo una película por año y debe contener tres columnas: año, título de la película y valoración."
   ],
   "metadata": {
    "collapsed": false
   }
  },
  {
   "cell_type": "code",
   "execution_count": 13,
   "outputs": [],
   "source": [
    "import findspark\n",
    "\n",
    "findspark.init()\n",
    "\n",
    "from pyspark.sql import SparkSession\n",
    "from pyspark import SparkContext\n",
    "from pyspark.sql.functions import col, count, desc, udf, rank, countDistinct, when, lit, row_number, rank, coalesce, dense_rank, max\n",
    "from pyspark.sql.types import IntegerType\n",
    "from pyspark.sql.window import Window\n",
    "\n",
    "spark = SparkSession.builder.master(\"local[*]\").getOrCreate()\n",
    "\n",
    "sc: SparkContext = spark.sparkContext"
   ],
   "metadata": {
    "collapsed": false,
    "ExecuteTime": {
     "end_time": "2023-05-18T12:58:08.460443500Z",
     "start_time": "2023-05-18T12:58:08.429161100Z"
    }
   }
  },
  {
   "cell_type": "code",
   "execution_count": 3,
   "outputs": [
    {
     "name": "stdout",
     "output_type": "stream",
     "text": [
      "root\n",
      " |-- actor: string (nullable = true)\n",
      " |-- pelicula: string (nullable = true)\n",
      " |-- año: integer (nullable = true)\n",
      "\n",
      "root\n",
      " |-- valoracion: double (nullable = true)\n",
      " |-- pelicula: string (nullable = true)\n",
      " |-- año: integer (nullable = true)\n",
      "\n",
      "+-----------------+-------------+----+\n",
      "|actor            |pelicula     |año |\n",
      "+-----------------+-------------+----+\n",
      "|McClure, Marc (I)|Freaky Friday|2003|\n",
      "|McClure, Marc (I)|Coach Carter |2005|\n",
      "|McClure, Marc (I)|Superman II  |1980|\n",
      "|McClure, Marc (I)|Apollo 13    |1995|\n",
      "|McClure, Marc (I)|Superman     |1978|\n",
      "+-----------------+-------------+----+\n",
      "only showing top 5 rows\n",
      "\n",
      "+----------+--------------------------+----+\n",
      "|valoracion|pelicula                  |año |\n",
      "+----------+--------------------------+----+\n",
      "|1.6339    |'Crocodile' Dundee II     |1988|\n",
      "|7.6177    |10                        |1979|\n",
      "|1.2864    |10 Things I Hate About You|1999|\n",
      "|0.3243    |10,000 BC                 |2008|\n",
      "|0.3376    |101 Dalmatians            |1996|\n",
      "+----------+--------------------------+----+\n",
      "only showing top 5 rows\n",
      "\n"
     ]
    }
   ],
   "source": [
    "movies_df = spark.read.csv(\"../data/s9_in/movies.csv\", header=True, inferSchema=True, sep=\"|\")\n",
    "movie_ratings_df = spark.read.csv(\"../data/s9_in/movie_ratings.csv\", header=True, inferSchema=True, sep=\"|\")\n",
    "\n",
    "movies_df.printSchema()\n",
    "movie_ratings_df.printSchema()\n",
    "\n",
    "movies_df.show(5, truncate=False)\n",
    "movie_ratings_df.show(5, truncate=False)"
   ],
   "metadata": {
    "collapsed": false,
    "ExecuteTime": {
     "end_time": "2023-05-18T11:55:57.004500300Z",
     "start_time": "2023-05-18T11:55:50.409870900Z"
    }
   }
  },
  {
   "cell_type": "code",
   "execution_count": 4,
   "outputs": [
    {
     "name": "stdout",
     "output_type": "stream",
     "text": [
      "+-------------------+-----+\n",
      "|              actor|count|\n",
      "+-------------------+-----+\n",
      "|   Tatasciore, Fred|   38|\n",
      "|      Welker, Frank|   38|\n",
      "| Jackson, Samuel L.|   32|\n",
      "|      Harnell, Jess|   31|\n",
      "|        Damon, Matt|   27|\n",
      "|      Willis, Bruce|   27|\n",
      "|  Cummings, Jim (I)|   26|\n",
      "|         Hanks, Tom|   25|\n",
      "|   Lynn, Sherry (I)|   25|\n",
      "|    Bergen, Bob (I)|   25|\n",
      "|    McGowan, Mickie|   25|\n",
      "|      Proctor, Phil|   24|\n",
      "|        Cruise, Tom|   23|\n",
      "|         Pitt, Brad|   23|\n",
      "|   Wilson, Owen (I)|   23|\n",
      "|       Depp, Johnny|   22|\n",
      "|Freeman, Morgan (I)|   22|\n",
      "|     Morrison, Rana|   22|\n",
      "|Williams, Robin (I)|   22|\n",
      "|      Diaz, Cameron|   21|\n",
      "+-------------------+-----+\n",
      "only showing top 20 rows\n",
      "\n"
     ]
    }
   ],
   "source": [
    "# 1\n",
    "movies_df.groupBy(\"actor\").count().orderBy(desc(\"count\")).show()"
   ],
   "metadata": {
    "collapsed": false,
    "ExecuteTime": {
     "end_time": "2023-05-18T12:39:14.868643500Z",
     "start_time": "2023-05-18T12:39:12.805141100Z"
    }
   }
  },
  {
   "cell_type": "code",
   "execution_count": 9,
   "outputs": [
    {
     "name": "stdout",
     "output_type": "stream",
     "text": [
      "+----+---------------+-----+\n",
      "|año |count(pelicula)|siglo|\n",
      "+----+---------------+-----+\n",
      "|1990|11             |XX   |\n",
      "|1975|1              |XX   |\n",
      "|1977|3              |XX   |\n",
      "|2003|76             |XXI  |\n",
      "|2007|75             |XXI  |\n",
      "|2006|86             |XXI  |\n",
      "|1978|3              |XX   |\n",
      "|1961|1              |XX   |\n",
      "|1997|66             |XX   |\n",
      "|1988|9              |XX   |\n",
      "|1994|16             |XX   |\n",
      "|1973|1              |XX   |\n",
      "|1979|5              |XX   |\n",
      "|2004|86             |XXI  |\n",
      "|1991|8              |XX   |\n",
      "|1967|1              |XX   |\n",
      "|1982|9              |XX   |\n",
      "|1989|8              |XX   |\n",
      "|1996|42             |XX   |\n",
      "|1998|59             |XX   |\n",
      "+----+---------------+-----+\n",
      "only showing top 20 rows\n",
      "\n"
     ]
    }
   ],
   "source": [
    "# 2\n",
    "(\n",
    "    movies_df\n",
    "    .groupBy(\n",
    "        \"año\"\n",
    "    )\n",
    "    .agg(\n",
    "        countDistinct(col(\"pelicula\"))\n",
    "    )\n",
    "    .withColumn(\n",
    "        \"siglo\",\n",
    "        when((col(\"año\") >= 1900) & (col(\"año\") < 2000), lit(\"XX\")).otherwise(lit(\"XXI\"))\n",
    "    )\n",
    "    .show(\n",
    "        truncate=False,\n",
    "    )\n",
    ")"
   ],
   "metadata": {
    "collapsed": false,
    "ExecuteTime": {
     "end_time": "2023-05-18T12:50:27.342759800Z",
     "start_time": "2023-05-18T12:50:25.938763900Z"
    }
   }
  },
  {
   "cell_type": "code",
   "execution_count": 18,
   "outputs": [
    {
     "name": "stdout",
     "output_type": "stream",
     "text": [
      "+----------+--------------------+-------+\n",
      "|valoracion|            pelicula|max_val|\n",
      "+----------+--------------------+-------+\n",
      "|      12.5|       The Wolverine|   12.5|\n",
      "|   12.8205|                1066|12.8205|\n",
      "|   14.1527|Ang babae sa sept...|14.1527|\n",
      "|   14.2173|           Beginners|14.2173|\n",
      "|   13.7234|Kimmy Dora: Kamba...|13.7234|\n",
      "|   14.0356|         Man on Wire|14.0356|\n",
      "|   13.7432|     Hostel: Part II|13.7432|\n",
      "|   13.7696|Love and Other Di...|13.7696|\n",
      "|   14.1976|             The Man|14.1976|\n",
      "|   14.2073|           Sleepover|14.2073|\n",
      "|   14.1829|               Gigli|14.1829|\n",
      "|   12.8821|         Extreme Ops|12.8821|\n",
      "|   14.0009|       Tortilla Soup|14.0009|\n",
      "|   14.1178|              Taxi 2|14.1178|\n",
      "|   14.0421|       Sofies verden|14.0421|\n",
      "|    14.015|            My Giant| 14.015|\n",
      "|   13.7106|  Leave It to Beaver|13.7106|\n",
      "|      14.1|          Sgt. Bilko|   14.1|\n",
      "|   13.0879|Something to Talk...|13.0879|\n",
      "|   14.1242|Änglagård - Andra...|14.1242|\n",
      "+----------+--------------------+-------+\n",
      "only showing top 20 rows\n",
      "\n"
     ]
    }
   ],
   "source": [
    "# 3\n",
    "window_spec = Window.partitionBy(\"año\").orderBy(desc(\"valoracion\"))\n",
    "window_spec_agg = Window.partitionBy(\"año\")\n",
    "\n",
    "(\n",
    "    movie_ratings_df\n",
    "    .withColumn(\n",
    "        \"row_number\",\n",
    "        row_number().over(window_spec).alias(\"row_number\"),\n",
    "    )\n",
    "    .withColumn(\n",
    "        \"max_val\",\n",
    "        max(\"valoracion\").over(window_spec_agg).alias(\"max_val\"),\n",
    "    )\n",
    "    .filter(\n",
    "        col(\"row_number\") == 1,\n",
    "    )\n",
    "    .select(\n",
    "        \"valoracion\",\n",
    "        \"pelicula\",\n",
    "        \"max_val\",\n",
    "    )\n",
    "    .orderBy(\n",
    "        desc(\"año\"),\n",
    "    )\n",
    "    .show()\n",
    ")"
   ],
   "metadata": {
    "collapsed": false,
    "ExecuteTime": {
     "end_time": "2023-05-18T13:01:57.891057300Z",
     "start_time": "2023-05-18T13:01:57.305345500Z"
    }
   }
  },
  {
   "cell_type": "code",
   "execution_count": null,
   "outputs": [],
   "source": [],
   "metadata": {
    "collapsed": false
   }
  }
 ],
 "metadata": {
  "kernelspec": {
   "display_name": "Python 3",
   "language": "python",
   "name": "python3"
  },
  "language_info": {
   "codemirror_mode": {
    "name": "ipython",
    "version": 2
   },
   "file_extension": ".py",
   "mimetype": "text/x-python",
   "name": "python",
   "nbconvert_exporter": "python",
   "pygments_lexer": "ipython2",
   "version": "2.7.6"
  }
 },
 "nbformat": 4,
 "nbformat_minor": 0
}
