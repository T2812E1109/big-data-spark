{
 "cells": [
  {
   "cell_type": "code",
   "execution_count": 37,
   "outputs": [],
   "source": [
    "import findspark\n",
    "\n",
    "findspark.init()\n",
    "\n",
    "from pyspark.sql import SparkSession\n",
    "from pyspark import SparkContext, RDD\n",
    "import math\n",
    "\n",
    "spark = SparkSession.builder.master(\"local[*]\").getOrCreate()\n",
    "\n",
    "sc: SparkContext = spark.sparkContext"
   ],
   "metadata": {
    "collapsed": false,
    "ExecuteTime": {
     "end_time": "2023-05-11T15:29:35.761140Z",
     "start_time": "2023-05-11T15:29:35.731136600Z"
    }
   }
  },
  {
   "cell_type": "markdown",
   "source": [
    "1. Cree un RDD llamado lenguajes que contenga los siguientes lenguajes de programación: Python, R, C, Scala, Rugby y SQL.\n",
    "\n",
    "    * a. Obtenga un nuevo RDD a partir del RDD lenguajes donde todos los lenguajes de programación estén en mayúsculas.\n",
    "\n",
    "    * b. Obtenga un nuevo RDD a partir del RDD lenguajes donde todos los lenguajes de programación estén en minúsculas.\n",
    "\n",
    "    * c. Cree un nuevo RDD que solo contenga aquellos lenguajes de programación que comiencen con la letra R."
   ],
   "metadata": {
    "collapsed": false
   }
  },
  {
   "cell_type": "code",
   "execution_count": 16,
   "outputs": [],
   "source": [
    "# 1\n",
    "lenguajes = sc.parallelize([\"Python\", \"R\", \"C\", \"Scala\", \"Ruby\", \"SQL\"])"
   ],
   "metadata": {
    "collapsed": false,
    "ExecuteTime": {
     "end_time": "2023-05-11T15:17:07.862572600Z",
     "start_time": "2023-05-11T15:17:07.769679900Z"
    }
   }
  },
  {
   "cell_type": "code",
   "execution_count": 17,
   "outputs": [
    {
     "data": {
      "text/plain": "['PYTHON', 'R', 'C', 'SCALA', 'RUBY', 'SQL']"
     },
     "execution_count": 17,
     "metadata": {},
     "output_type": "execute_result"
    }
   ],
   "source": [
    "# a\n",
    "lenguajes_upper = lenguajes.map(lambda x: x.upper())\n",
    "lenguajes_upper.collect()"
   ],
   "metadata": {
    "collapsed": false,
    "ExecuteTime": {
     "end_time": "2023-05-11T15:17:16.365923600Z",
     "start_time": "2023-05-11T15:17:07.804620Z"
    }
   }
  },
  {
   "cell_type": "code",
   "execution_count": 18,
   "outputs": [
    {
     "data": {
      "text/plain": "['python', 'r', 'c', 'scala', 'ruby', 'sql']"
     },
     "execution_count": 18,
     "metadata": {},
     "output_type": "execute_result"
    }
   ],
   "source": [
    "# b\n",
    "lenguajes_lower = lenguajes.map(lambda x: x.lower())\n",
    "lenguajes_lower.collect()"
   ],
   "metadata": {
    "collapsed": false,
    "ExecuteTime": {
     "end_time": "2023-05-11T15:17:24.760129400Z",
     "start_time": "2023-05-11T15:17:16.369937500Z"
    }
   }
  },
  {
   "cell_type": "code",
   "execution_count": 19,
   "outputs": [
    {
     "data": {
      "text/plain": "['R', 'Ruby']"
     },
     "execution_count": 19,
     "metadata": {},
     "output_type": "execute_result"
    }
   ],
   "source": [
    "# c\n",
    "lenguajes_start_r = lenguajes.filter(lambda x: x.lower().startswith(\"r\"))\n",
    "lenguajes_start_r.collect()"
   ],
   "metadata": {
    "collapsed": false,
    "ExecuteTime": {
     "end_time": "2023-05-11T15:17:33.200365800Z",
     "start_time": "2023-05-11T15:17:24.760129400Z"
    }
   }
  },
  {
   "cell_type": "markdown",
   "source": [
    "2. Cree un RDD llamado pares que contenga los números pares existentes en el intervalo [20;30].\n",
    "\n",
    "    * a. Cree el RDD llamado sqrt, este debe contener la raíz cuadrada de los elementos que componen el RDD pares.\n",
    "\n",
    "    * b. Obtenga una lista compuesta por los números pares en el intervalo [20;30] y sus respectivas raíces cuadradas. Un ejemplo del resultado deseado para el intervalo [50;60] sería la lista [50, 7.0710678118654755, 52, 7.211102550927978, 54, 7.3484692283495345, 56, 7.483314773547883, 58, 7.615773105863909, 60, 7.745966692414834].\n",
    "\n",
    "    * c. Eleve el número de particiones del RDD sqrt a 20.\n",
    "\n",
    "    * d. Si tuviera que disminuir el número de particiones luego de haberlo establecido en 20, ¿qué función utilizaría para hacer más eficiente su código?"
   ],
   "metadata": {
    "collapsed": false
   }
  },
  {
   "cell_type": "code",
   "execution_count": 20,
   "outputs": [],
   "source": [
    "# 2\n",
    "pares = sc.parallelize(list(range(20, 31, 2)))"
   ],
   "metadata": {
    "collapsed": false,
    "ExecuteTime": {
     "end_time": "2023-05-11T15:17:33.212480600Z",
     "start_time": "2023-05-11T15:17:33.200365800Z"
    }
   }
  },
  {
   "cell_type": "code",
   "execution_count": 27,
   "outputs": [
    {
     "data": {
      "text/plain": "[4.47213595499958,\n 4.69041575982343,\n 4.898979485566356,\n 5.0990195135927845,\n 5.291502622129181,\n 5.477225575051661]"
     },
     "execution_count": 27,
     "metadata": {},
     "output_type": "execute_result"
    }
   ],
   "source": [
    "# a\n",
    "sqrt = pares.map(lambda x: math.sqrt(x))\n",
    "sqrt.collect()"
   ],
   "metadata": {
    "collapsed": false,
    "ExecuteTime": {
     "end_time": "2023-05-11T15:21:22.351556700Z",
     "start_time": "2023-05-11T15:21:13.716226400Z"
    }
   }
  },
  {
   "cell_type": "code",
   "execution_count": 32,
   "outputs": [
    {
     "data": {
      "text/plain": "[20,\n 4.47213595499958,\n 22,\n 4.69041575982343,\n 24,\n 4.898979485566356,\n 26,\n 5.0990195135927845,\n 28,\n 5.291502622129181,\n 30,\n 5.477225575051661]"
     },
     "execution_count": 32,
     "metadata": {},
     "output_type": "execute_result"
    }
   ],
   "source": [
    "# b\n",
    "sqrt_flatmap = pares.flatMap(lambda x: (x, math.sqrt(x)))\n",
    "sqrt_flatmap.collect()"
   ],
   "metadata": {
    "collapsed": false,
    "ExecuteTime": {
     "end_time": "2023-05-11T15:24:04.495973100Z",
     "start_time": "2023-05-11T15:23:55.505926800Z"
    }
   }
  },
  {
   "cell_type": "code",
   "execution_count": 33,
   "outputs": [
    {
     "data": {
      "text/plain": "20"
     },
     "execution_count": 33,
     "metadata": {},
     "output_type": "execute_result"
    }
   ],
   "source": [
    "# c\n",
    "sqrt_20_partitions = sqrt.repartition(20)\n",
    "sqrt_20_partitions.getNumPartitions()"
   ],
   "metadata": {
    "collapsed": false,
    "ExecuteTime": {
     "end_time": "2023-05-11T15:24:04.556815800Z",
     "start_time": "2023-05-11T15:24:04.495973100Z"
    }
   }
  },
  {
   "cell_type": "code",
   "execution_count": 34,
   "outputs": [
    {
     "data": {
      "text/plain": "10"
     },
     "execution_count": 34,
     "metadata": {},
     "output_type": "execute_result"
    }
   ],
   "source": [
    "# d\n",
    "sqrt_10_partitions = sqrt.coalesce(10)\n",
    "sqrt_10_partitions.getNumPartitions()"
   ],
   "metadata": {
    "collapsed": false,
    "ExecuteTime": {
     "end_time": "2023-05-11T15:24:04.556815800Z",
     "start_time": "2023-05-11T15:24:04.546182400Z"
    }
   }
  },
  {
   "cell_type": "markdown",
   "source": [
    "3. Cree un RDD del tipo clave valor a partir de los datos adjuntos como recurso a esta lección. Tenga en cuenta que deberá procesar el RDD leído para obtener el resultado solicitado. Supongamos que el RDD resultante de tipo clave valor refleja las transacciones realizadas por número de cuentas. Obtenga el monto total por cada cuenta.\n",
    "\n",
    "* Tip: Cree su propia función para procesar el RDD leído."
   ],
   "metadata": {
    "collapsed": false
   }
  },
  {
   "cell_type": "code",
   "execution_count": 48,
   "outputs": [
    {
     "data": {
      "text/plain": "[('1001', 52.3),\n ('1005', 20.8),\n ('1001', 10.1),\n ('1004', 52.7),\n ('1005', 20.7),\n ('1002', 85.3),\n ('1004', 20.9)]"
     },
     "execution_count": 48,
     "metadata": {},
     "output_type": "execute_result"
    }
   ],
   "source": [
    "rdd_kv = sc.textFile(r\"../../data/transacciones\")\\\n",
    "    .map(lambda x: x[1:-1].split(\",\"))\\\n",
    "    .map(lambda x: (x[0], float(x[1].strip())))\n",
    "rdd_kv.collect()"
   ],
   "metadata": {
    "collapsed": false,
    "ExecuteTime": {
     "end_time": "2023-05-11T15:42:05.712298900Z",
     "start_time": "2023-05-11T15:42:04.044553700Z"
    }
   }
  },
  {
   "cell_type": "code",
   "execution_count": 49,
   "outputs": [
    {
     "data": {
      "text/plain": "[('1001', 62.4), ('1002', 85.3), ('1004', 73.6), ('1005', 41.5)]"
     },
     "execution_count": 49,
     "metadata": {},
     "output_type": "execute_result"
    }
   ],
   "source": [
    "rdd_kv_reduce = rdd_kv.reduceByKey(lambda x, y: x + y)\n",
    "sorted(rdd_kv_reduce.collect())"
   ],
   "metadata": {
    "collapsed": false,
    "ExecuteTime": {
     "end_time": "2023-05-11T15:42:14.775731500Z",
     "start_time": "2023-05-11T15:42:11.620816Z"
    }
   }
  }
 ],
 "metadata": {
  "kernelspec": {
   "display_name": "Python 3",
   "language": "python",
   "name": "python3"
  },
  "language_info": {
   "codemirror_mode": {
    "name": "ipython",
    "version": 2
   },
   "file_extension": ".py",
   "mimetype": "text/x-python",
   "name": "python",
   "nbconvert_exporter": "python",
   "pygments_lexer": "ipython2",
   "version": "2.7.6"
  }
 },
 "nbformat": 4,
 "nbformat_minor": 0
}
